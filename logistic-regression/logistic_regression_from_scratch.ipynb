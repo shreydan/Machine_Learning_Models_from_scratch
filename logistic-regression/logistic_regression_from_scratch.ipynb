{
  "nbformat": 4,
  "nbformat_minor": 0,
  "metadata": {
    "colab": {
      "name": "logistic_regression_from_scratch.ipynb",
      "provenance": [],
      "collapsed_sections": []
    },
    "kernelspec": {
      "name": "python3",
      "display_name": "Python 3"
    },
    "language_info": {
      "name": "python"
    }
  },
  "cells": [
    {
      "cell_type": "markdown",
      "source": [
        "# **Logistic Regression** - Classification Model"
      ],
      "metadata": {
        "id": "ietAC5a-mmvA"
      }
    },
    {
      "cell_type": "markdown",
      "source": [
        "## Binary Classification"
      ],
      "metadata": {
        "id": "Gml5FCf6mtUk"
      }
    },
    {
      "cell_type": "markdown",
      "source": [
        "#### basic imports"
      ],
      "metadata": {
        "id": "IbDS89Kbmvzg"
      }
    },
    {
      "cell_type": "code",
      "execution_count": 1,
      "metadata": {
        "id": "5JzwjZHEmZjY"
      },
      "outputs": [],
      "source": [
        "import numpy as np\n",
        "import pandas as pd\n",
        "import matplotlib.pyplot as plt\n",
        "from pandas.plotting import scatter_matrix\n",
        "from sklearn.preprocessing import LabelEncoder"
      ]
    },
    {
      "cell_type": "markdown",
      "source": [
        "## **tumors dataset: from [madewithML](https://madewithml.com)**\n",
        "\n",
        "```\n",
        "@article{madewithml,\n",
        "    author       = {Goku Mohandas},\n",
        "    title        = { Logistic regression - Made With ML },\n",
        "    howpublished = {\\url{https://madewithml.com/}},\n",
        "    year         = {2021}\n",
        "}\n",
        "```\n",
        "\n",
        "\n"
      ],
      "metadata": {
        "id": "tkYCtbTlmzG8"
      }
    },
    {
      "cell_type": "code",
      "source": [
        "# Read from CSV to Pandas DataFrame\n",
        "url = \"https://raw.githubusercontent.com/GokuMohandas/MadeWithML/main/datasets/tumors.csv\"\n",
        "df = pd.read_csv(url, header=0) # load\n",
        "df = df.sample(frac=1).reset_index(drop=True) # shuffle\n",
        "df.head()"
      ],
      "metadata": {
        "colab": {
          "base_uri": "https://localhost:8080/",
          "height": 206
        },
        "id": "bJ4XTmPgm6HX",
        "outputId": "24a26e66-dca0-4769-f3f6-4abc3f127b5d"
      },
      "execution_count": 2,
      "outputs": [
        {
          "output_type": "execute_result",
          "data": {
            "text/html": [
              "\n",
              "  <div id=\"df-a6c34fbb-520a-4bea-8629-aacf9ab2a4f9\">\n",
              "    <div class=\"colab-df-container\">\n",
              "      <div>\n",
              "<style scoped>\n",
              "    .dataframe tbody tr th:only-of-type {\n",
              "        vertical-align: middle;\n",
              "    }\n",
              "\n",
              "    .dataframe tbody tr th {\n",
              "        vertical-align: top;\n",
              "    }\n",
              "\n",
              "    .dataframe thead th {\n",
              "        text-align: right;\n",
              "    }\n",
              "</style>\n",
              "<table border=\"1\" class=\"dataframe\">\n",
              "  <thead>\n",
              "    <tr style=\"text-align: right;\">\n",
              "      <th></th>\n",
              "      <th>leukocyte_count</th>\n",
              "      <th>blood_pressure</th>\n",
              "      <th>tumor_class</th>\n",
              "    </tr>\n",
              "  </thead>\n",
              "  <tbody>\n",
              "    <tr>\n",
              "      <th>0</th>\n",
              "      <td>18.653399</td>\n",
              "      <td>15.622080</td>\n",
              "      <td>benign</td>\n",
              "    </tr>\n",
              "    <tr>\n",
              "      <th>1</th>\n",
              "      <td>12.878292</td>\n",
              "      <td>15.602327</td>\n",
              "      <td>malignant</td>\n",
              "    </tr>\n",
              "    <tr>\n",
              "      <th>2</th>\n",
              "      <td>9.628505</td>\n",
              "      <td>14.913433</td>\n",
              "      <td>malignant</td>\n",
              "    </tr>\n",
              "    <tr>\n",
              "      <th>3</th>\n",
              "      <td>16.580394</td>\n",
              "      <td>16.079513</td>\n",
              "      <td>benign</td>\n",
              "    </tr>\n",
              "    <tr>\n",
              "      <th>4</th>\n",
              "      <td>20.110878</td>\n",
              "      <td>15.419251</td>\n",
              "      <td>benign</td>\n",
              "    </tr>\n",
              "  </tbody>\n",
              "</table>\n",
              "</div>\n",
              "      <button class=\"colab-df-convert\" onclick=\"convertToInteractive('df-a6c34fbb-520a-4bea-8629-aacf9ab2a4f9')\"\n",
              "              title=\"Convert this dataframe to an interactive table.\"\n",
              "              style=\"display:none;\">\n",
              "        \n",
              "  <svg xmlns=\"http://www.w3.org/2000/svg\" height=\"24px\"viewBox=\"0 0 24 24\"\n",
              "       width=\"24px\">\n",
              "    <path d=\"M0 0h24v24H0V0z\" fill=\"none\"/>\n",
              "    <path d=\"M18.56 5.44l.94 2.06.94-2.06 2.06-.94-2.06-.94-.94-2.06-.94 2.06-2.06.94zm-11 1L8.5 8.5l.94-2.06 2.06-.94-2.06-.94L8.5 2.5l-.94 2.06-2.06.94zm10 10l.94 2.06.94-2.06 2.06-.94-2.06-.94-.94-2.06-.94 2.06-2.06.94z\"/><path d=\"M17.41 7.96l-1.37-1.37c-.4-.4-.92-.59-1.43-.59-.52 0-1.04.2-1.43.59L10.3 9.45l-7.72 7.72c-.78.78-.78 2.05 0 2.83L4 21.41c.39.39.9.59 1.41.59.51 0 1.02-.2 1.41-.59l7.78-7.78 2.81-2.81c.8-.78.8-2.07 0-2.86zM5.41 20L4 18.59l7.72-7.72 1.47 1.35L5.41 20z\"/>\n",
              "  </svg>\n",
              "      </button>\n",
              "      \n",
              "  <style>\n",
              "    .colab-df-container {\n",
              "      display:flex;\n",
              "      flex-wrap:wrap;\n",
              "      gap: 12px;\n",
              "    }\n",
              "\n",
              "    .colab-df-convert {\n",
              "      background-color: #E8F0FE;\n",
              "      border: none;\n",
              "      border-radius: 50%;\n",
              "      cursor: pointer;\n",
              "      display: none;\n",
              "      fill: #1967D2;\n",
              "      height: 32px;\n",
              "      padding: 0 0 0 0;\n",
              "      width: 32px;\n",
              "    }\n",
              "\n",
              "    .colab-df-convert:hover {\n",
              "      background-color: #E2EBFA;\n",
              "      box-shadow: 0px 1px 2px rgba(60, 64, 67, 0.3), 0px 1px 3px 1px rgba(60, 64, 67, 0.15);\n",
              "      fill: #174EA6;\n",
              "    }\n",
              "\n",
              "    [theme=dark] .colab-df-convert {\n",
              "      background-color: #3B4455;\n",
              "      fill: #D2E3FC;\n",
              "    }\n",
              "\n",
              "    [theme=dark] .colab-df-convert:hover {\n",
              "      background-color: #434B5C;\n",
              "      box-shadow: 0px 1px 3px 1px rgba(0, 0, 0, 0.15);\n",
              "      filter: drop-shadow(0px 1px 2px rgba(0, 0, 0, 0.3));\n",
              "      fill: #FFFFFF;\n",
              "    }\n",
              "  </style>\n",
              "\n",
              "      <script>\n",
              "        const buttonEl =\n",
              "          document.querySelector('#df-a6c34fbb-520a-4bea-8629-aacf9ab2a4f9 button.colab-df-convert');\n",
              "        buttonEl.style.display =\n",
              "          google.colab.kernel.accessAllowed ? 'block' : 'none';\n",
              "\n",
              "        async function convertToInteractive(key) {\n",
              "          const element = document.querySelector('#df-a6c34fbb-520a-4bea-8629-aacf9ab2a4f9');\n",
              "          const dataTable =\n",
              "            await google.colab.kernel.invokeFunction('convertToInteractive',\n",
              "                                                     [key], {});\n",
              "          if (!dataTable) return;\n",
              "\n",
              "          const docLinkHtml = 'Like what you see? Visit the ' +\n",
              "            '<a target=\"_blank\" href=https://colab.research.google.com/notebooks/data_table.ipynb>data table notebook</a>'\n",
              "            + ' to learn more about interactive tables.';\n",
              "          element.innerHTML = '';\n",
              "          dataTable['output_type'] = 'display_data';\n",
              "          await google.colab.output.renderOutput(dataTable, element);\n",
              "          const docLink = document.createElement('div');\n",
              "          docLink.innerHTML = docLinkHtml;\n",
              "          element.appendChild(docLink);\n",
              "        }\n",
              "      </script>\n",
              "    </div>\n",
              "  </div>\n",
              "  "
            ],
            "text/plain": [
              "   leukocyte_count  blood_pressure tumor_class\n",
              "0        18.653399       15.622080      benign\n",
              "1        12.878292       15.602327   malignant\n",
              "2         9.628505       14.913433   malignant\n",
              "3        16.580394       16.079513      benign\n",
              "4        20.110878       15.419251      benign"
            ]
          },
          "metadata": {},
          "execution_count": 2
        }
      ]
    },
    {
      "cell_type": "code",
      "source": [
        "# DATA\n",
        "\n",
        "X = df[['leukocyte_count', 'blood_pressure']].values\n",
        "y = df['tumor_class'].values\n",
        "y.shape"
      ],
      "metadata": {
        "colab": {
          "base_uri": "https://localhost:8080/"
        },
        "id": "Ilmedyb2rhGj",
        "outputId": "6785c44f-fafa-46ad-b7a3-066c17e97590"
      },
      "execution_count": 3,
      "outputs": [
        {
          "output_type": "execute_result",
          "data": {
            "text/plain": [
              "(1000,)"
            ]
          },
          "metadata": {},
          "execution_count": 3
        }
      ]
    },
    {
      "cell_type": "markdown",
      "source": [
        "#### data visualization"
      ],
      "metadata": {
        "id": "2af3sDScrbMN"
      }
    },
    {
      "cell_type": "code",
      "source": [
        "colors = {\"benign\": \"red\", \"malignant\": \"blue\"}\n",
        "plt.scatter(X[:, 0], X[:, 1], c=[colors[_y] for _y in y], s=25, edgecolors=\"k\")\n",
        "plt.xlabel(\"leukocyte count\")\n",
        "plt.ylabel(\"blood pressure\")\n",
        "plt.legend([\"malignant\", \"benign\"], loc=\"lower left\")\n",
        "plt.show()"
      ],
      "metadata": {
        "colab": {
          "base_uri": "https://localhost:8080/",
          "height": 279
        },
        "id": "e-6hsQQgre6V",
        "outputId": "5c720ecf-b70a-41a8-f501-aed651648144"
      },
      "execution_count": 4,
      "outputs": [
        {
          "output_type": "display_data",
          "data": {
            "image/png": "[encoded data removed]",
            "text/plain": [
              "<Figure size 432x288 with 1 Axes>"
            ]
          },
          "metadata": {
            "needs_background": "light"
          }
        }
      ]
    },
    {
      "cell_type": "markdown",
      "source": [
        "#### label encoding"
      ],
      "metadata": {
        "id": "QDCQw-UOsyNZ"
      }
    },
    {
      "cell_type": "code",
      "source": [
        "lenc = LabelEncoder()\n",
        "lenc.fit(y)\n",
        "# benign: 0, malignant: 1\n",
        "y = lenc.transform(y)"
      ],
      "metadata": {
        "id": "aUADXY1Ws0VE"
      },
      "execution_count": 5,
      "outputs": []
    },
    {
      "cell_type": "markdown",
      "source": [
        "### **MODEL**\n",
        "\n",
        "`logistic_regression.py` in current dir"
      ],
      "metadata": {
        "id": "P23q9Pb2QCZZ"
      }
    },
    {
      "cell_type": "code",
      "source": [
        "class LogisticRegression:\n",
        "    def __init__(self, learning_rate=1e-2, epochs=10000) -> None:\n",
        "        self.learning_rate = learning_rate\n",
        "        self.epochs = epochs\n",
        "        self.decision_boundary = 0.5\n",
        "\n",
        "    def sigmoid(self, z):\n",
        "        return 1 / (1 + np.exp(-z))\n",
        "\n",
        "    def y_pred(self, X, w, b):\n",
        "\n",
        "        # X : m X n\n",
        "        # w : n X 1\n",
        "        # X.w + b: m X 1\n",
        "        # y_pred: m X 1\n",
        "\n",
        "        return self.sigmoid(np.dot(X, w) + b)\n",
        "\n",
        "    def cost(self, y_pred, y):\n",
        "\n",
        "        # y_pred: m X 1\n",
        "        # y: m X 1\n",
        "        # cost: scalar\n",
        "\n",
        "        # * : element-wise matrix multiplication\n",
        "\n",
        "        positive_side = y * np.log(y_pred)\n",
        "        negative_side = (1 - y) * np.log(1 - y_pred)\n",
        "\n",
        "        return (-1 / self.m) * np.sum(positive_side + negative_side)\n",
        "\n",
        "    def gradient_descent(self, X, y, y_pred, w, b):\n",
        "\n",
        "        # X: m X n\n",
        "        # X.T: n X m\n",
        "        # y or y_pred: m X 1\n",
        "        # X.T dot (y_pred-y) = n X 1 == W.shape : n X 1\n",
        "        # b: scalar\n",
        "\n",
        "        dW = (1 / self.m) * np.dot(X.T, (y_pred - y))\n",
        "        db = (1 / self.m) * np.sum(y_pred - y)\n",
        "\n",
        "        w -= self.learning_rate * dW\n",
        "        b -= self.learning_rate * db\n",
        "\n",
        "        return w, b\n",
        "\n",
        "    def fit(self, X, y):\n",
        "\n",
        "        # X: m X n\n",
        "        # y: m X 1\n",
        "\n",
        "        # m: no. of samples\n",
        "        # n: no. of features\n",
        "        self.m, self.n = X.shape\n",
        "\n",
        "        # weights: n X 1\n",
        "        # bias: scalar\n",
        "\n",
        "        self.weights = np.zeros(shape=self.n)\n",
        "        self.bias = 0\n",
        "\n",
        "        for _ in range(self.epochs):\n",
        "\n",
        "            y_pred = self.y_pred(X, self.weights, self.bias)\n",
        "            self.weights, self.bias = self.gradient_descent(\n",
        "                X, y, y_pred, self.weights, self.bias\n",
        "            )\n",
        "            cost = self.cost(y_pred, y)\n",
        "\n",
        "            self.loss = cost\n",
        "\n",
        "    def predict(self, X):\n",
        "\n",
        "        y_pred = self.y_pred(X, self.weights, self.bias)\n",
        "        y_pred_labels = y_pred >= self.decision_boundary\n",
        "        y_pred_labels = y_pred_labels.astype(int)\n",
        "\n",
        "        return y_pred_labels\n"
      ],
      "metadata": {
        "id": "QqqGQ7EpqypX"
      },
      "execution_count": 27,
      "outputs": []
    },
    {
      "cell_type": "code",
      "source": [
        "classifier = LogisticRegression(epochs = 1000)"
      ],
      "metadata": {
        "id": "fkNoyym5pk29"
      },
      "execution_count": 91,
      "outputs": []
    },
    {
      "cell_type": "code",
      "source": [
        "from sklearn.model_selection import train_test_split\n",
        "from sklearn.metrics import mean_squared_error\n",
        "from sklearn.metrics import mean_absolute_error\n",
        "\n",
        "X_train, X_test, y_train, y_test = train_test_split(X,y, test_size = 0.2, random_state = 1234)"
      ],
      "metadata": {
        "id": "JU-UZvExptH7"
      },
      "execution_count": 92,
      "outputs": []
    },
    {
      "cell_type": "code",
      "source": [
        "classifier.fit(X_train, y_train)\n",
        "\n",
        "y_pred = classifier.predict(X_test)\n",
        "\n",
        "sm_mse = mean_squared_error(y_test, y_pred)\n",
        "sm_mae = mean_absolute_error(y_test, y_pred)\n",
        "\n",
        "print(sm_mse, sm_mae)\n",
        "\n",
        "print(list(zip(y_pred, y_test)))\n",
        "\n",
        "print(classifier.loss)\n",
        "\n",
        "print(f\"Accuracy: {np.sum(y_test==y_pred)/X_test.shape[0]}\")"
      ],
      "metadata": {
        "colab": {
          "base_uri": "https://localhost:8080/"
        },
        "id": "5ab2vvlVqCLx",
        "outputId": "c8e47bec-b8bc-4cad-b623-b05cbd59aa65"
      },
      "execution_count": 93,
      "outputs": [
        {
          "output_type": "stream",
          "name": "stdout",
          "text": [
            "0.015 0.015\n",
            "[(1, 1), (0, 0), (1, 1), (0, 0), (0, 0), (0, 0), (1, 1), (0, 0), (0, 0), (1, 1), (1, 1), (1, 1), (1, 1), (1, 1), (1, 1), (1, 1), (1, 1), (0, 0), (0, 0), (1, 1), (1, 1), (1, 1), (1, 1), (1, 1), (1, 1), (0, 0), (1, 1), (1, 1), (1, 1), (1, 1), (1, 1), (0, 0), (0, 0), (0, 0), (0, 0), (1, 1), (1, 1), (1, 1), (1, 1), (0, 0), (1, 1), (0, 0), (0, 0), (0, 0), (1, 1), (0, 0), (1, 1), (1, 1), (1, 1), (1, 1), (1, 1), (0, 0), (0, 0), (1, 1), (0, 0), (1, 1), (1, 1), (1, 1), (0, 0), (1, 1), (1, 1), (1, 1), (0, 0), (1, 1), (0, 0), (1, 1), (0, 0), (1, 1), (0, 0), (1, 1), (0, 0), (1, 1), (1, 1), (1, 1), (1, 1), (1, 1), (0, 0), (1, 1), (0, 0), (1, 1), (1, 1), (1, 1), (0, 0), (1, 1), (1, 1), (1, 1), (1, 1), (1, 1), (0, 0), (1, 1), (1, 1), (1, 1), (0, 0), (1, 1), (0, 1), (0, 0), (1, 1), (0, 0), (1, 1), (1, 1), (1, 1), (0, 0), (1, 1), (0, 0), (0, 0), (0, 0), (1, 1), (1, 1), (1, 1), (0, 0), (1, 1), (1, 1), (0, 0), (1, 1), (1, 1), (1, 1), (1, 1), (0, 0), (1, 1), (0, 0), (1, 1), (1, 1), (1, 1), (1, 1), (0, 0), (0, 0), (1, 1), (0, 0), (0, 0), (1, 1), (0, 0), (0, 0), (1, 1), (1, 1), (0, 1), (0, 0), (1, 1), (1, 1), (0, 0), (1, 1), (0, 0), (1, 1), (1, 1), (1, 1), (1, 1), (1, 1), (0, 0), (0, 0), (0, 0), (1, 1), (0, 0), (1, 1), (1, 1), (0, 0), (0, 0), (0, 0), (0, 0), (1, 1), (0, 0), (1, 1), (1, 1), (1, 1), (1, 1), (0, 0), (1, 1), (1, 0), (1, 1), (1, 1), (1, 1), (1, 1), (1, 1), (0, 0), (1, 1), (0, 0), (0, 0), (1, 1), (1, 1), (0, 0), (0, 0), (1, 1), (0, 0), (1, 1), (1, 1), (1, 1), (0, 0), (1, 1), (0, 0), (0, 0), (1, 1), (0, 0), (1, 1), (0, 0), (1, 1), (1, 1), (1, 1), (1, 1), (1, 1), (1, 1), (1, 1), (1, 1)]\n",
            "0.11591463544859552\n",
            "Accuracy: 0.985\n"
          ]
        }
      ]
    },
    {
      "cell_type": "markdown",
      "source": [
        "https://stackoverflow.com/questions/38125319/python-divide-by-zero-encountered-in-log-logistic-regression"
      ],
      "metadata": {
        "id": "9_JUGJrarLCR"
      }
    },
    {
      "cell_type": "markdown",
      "source": [
        "#### visualization of predictions"
      ],
      "metadata": {
        "id": "kwC-DrUItA5N"
      }
    },
    {
      "cell_type": "code",
      "source": [
        "plt.plot(X_test, X_test * classifier.weights + classifier.bias, linewidth=1)\n",
        "plt.axhline(classifier.decision_boundary, color=\"green\")\n",
        "plt.show()"
      ],
      "metadata": {
        "colab": {
          "base_uri": "https://localhost:8080/",
          "height": 265
        },
        "id": "VIbfMxkVt2Q3",
        "outputId": "4e36174e-35ee-4c93-831b-be5a5f106ac4"
      },
      "execution_count": 94,
      "outputs": [
        {
          "output_type": "display_data",
          "data": {
            "image/png": "[encoded data removed]",
            "text/plain": [
              "<Figure size 432x288 with 1 Axes>"
            ]
          },
          "metadata": {
            "needs_background": "light"
          }
        }
      ]
    }
  ]
}