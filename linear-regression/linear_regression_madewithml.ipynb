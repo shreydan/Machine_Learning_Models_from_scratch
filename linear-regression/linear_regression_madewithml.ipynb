{
  "nbformat": 4,
  "nbformat_minor": 0,
  "metadata": {
    "colab": {
      "name": "linear-regression-madewithml.ipynb",
      "provenance": [],
      "collapsed_sections": []
    },
    "kernelspec": {
      "name": "python3",
      "display_name": "Python 3"
    },
    "language_info": {
      "name": "python"
    }
  },
  "cells": [
    {
      "cell_type": "markdown",
      "metadata": {
        "id": "i-SzsnaaDM1B"
      },
      "source": [
        "https://madewithml.com/courses/foundations/linear-regression/"
      ]
    },
    {
      "cell_type": "markdown",
      "metadata": {
        "id": "juayUF1Ic2Zu"
      },
      "source": [
        "@article{\n",
        "    \n",
        "    madewithml,\n",
        "\n",
        "    author       = {Goku Mohandas},\n",
        "\n",
        "    title        = { Linear regression - Made With ML },\n",
        "\n",
        "    howpublished = https://madewithml.com/,\n",
        "\n",
        "    year         = {2021}\n",
        "}\n"
      ]
    },
    {
      "cell_type": "markdown",
      "metadata": {
        "id": "QbqOuFZWDRno"
      },
      "source": [
        "\n",
        "prediction = input*weight + bias\n"
      ]
    },
    {
      "cell_type": "code",
      "metadata": {
        "id": "MricIUCWDHwb"
      },
      "source": [
        "import numpy as np\n",
        "import pandas as pd\n",
        "import matplotlib.pyplot as plt"
      ],
      "execution_count": 1,
      "outputs": []
    },
    {
      "cell_type": "code",
      "metadata": {
        "id": "-OKtvRqfDj7f"
      },
      "source": [
        "SEED = 1234 # for reproducibility\n",
        "NUM_SAMPLES = 50"
      ],
      "execution_count": 2,
      "outputs": []
    },
    {
      "cell_type": "code",
      "metadata": {
        "id": "uJPW2eC5Dxtu"
      },
      "source": [
        "np.random.seed(SEED)"
      ],
      "execution_count": 3,
      "outputs": []
    },
    {
      "cell_type": "code",
      "metadata": {
        "id": "_eDbDqHlD8Rm"
      },
      "source": [
        "def generate_data(NUM_SAMPLES):\n",
        "    # generate dummy data for linear regr\n",
        "    X = np.array(range(NUM_SAMPLES))\n",
        "    random_noise = np.random.uniform(-10,20, size = NUM_SAMPLES)\n",
        "    Y = 4*X + random_noise\n",
        "    return X,Y"
      ],
      "execution_count": 4,
      "outputs": []
    },
    {
      "cell_type": "code",
      "metadata": {
        "id": "13GLQk64ESfZ"
      },
      "source": [
        "X,Y = generate_data(NUM_SAMPLES=NUM_SAMPLES)\n",
        "\n",
        "data = np.vstack((X,Y)).T\n",
        "print(data)"
      ],
      "execution_count": null,
      "outputs": []
    },
    {
      "cell_type": "code",
      "metadata": {
        "colab": {
          "base_uri": "https://localhost:8080/",
          "height": 204
        },
        "id": "q6v9bqNnFR0l",
        "outputId": "397fccbd-b882-4416-e640-a7411c6298d7"
      },
      "source": [
        "df = pd.DataFrame(data, columns=['X','Y'])\n",
        "X = df[['X']].values\n",
        "Y = df[['Y']].values\n",
        "df.head()"
      ],
      "execution_count": 6,
      "outputs": [
        {
          "output_type": "execute_result",
          "data": {
            "text/html": [
              "<div>\n",
              "<style scoped>\n",
              "    .dataframe tbody tr th:only-of-type {\n",
              "        vertical-align: middle;\n",
              "    }\n",
              "\n",
              "    .dataframe tbody tr th {\n",
              "        vertical-align: top;\n",
              "    }\n",
              "\n",
              "    .dataframe thead th {\n",
              "        text-align: right;\n",
              "    }\n",
              "</style>\n",
              "<table border=\"1\" class=\"dataframe\">\n",
              "  <thead>\n",
              "    <tr style=\"text-align: right;\">\n",
              "      <th></th>\n",
              "      <th>X</th>\n",
              "      <th>Y</th>\n",
              "    </tr>\n",
              "  </thead>\n",
              "  <tbody>\n",
              "    <tr>\n",
              "      <th>0</th>\n",
              "      <td>0.0</td>\n",
              "      <td>-4.254416</td>\n",
              "    </tr>\n",
              "    <tr>\n",
              "      <th>1</th>\n",
              "      <td>1.0</td>\n",
              "      <td>12.663263</td>\n",
              "    </tr>\n",
              "    <tr>\n",
              "      <th>2</th>\n",
              "      <td>2.0</td>\n",
              "      <td>11.131832</td>\n",
              "    </tr>\n",
              "    <tr>\n",
              "      <th>3</th>\n",
              "      <td>3.0</td>\n",
              "      <td>25.560758</td>\n",
              "    </tr>\n",
              "    <tr>\n",
              "      <th>4</th>\n",
              "      <td>4.0</td>\n",
              "      <td>29.399274</td>\n",
              "    </tr>\n",
              "  </tbody>\n",
              "</table>\n",
              "</div>"
            ],
            "text/plain": [
              "     X          Y\n",
              "0  0.0  -4.254416\n",
              "1  1.0  12.663263\n",
              "2  2.0  11.131832\n",
              "3  3.0  25.560758\n",
              "4  4.0  29.399274"
            ]
          },
          "metadata": {},
          "execution_count": 6
        }
      ]
    },
    {
      "cell_type": "code",
      "metadata": {
        "colab": {
          "base_uri": "https://localhost:8080/",
          "height": 281
        },
        "id": "MatbET1-FlBb",
        "outputId": "6a256343-82e2-40b2-dfa6-b6dea9a2cb8b"
      },
      "source": [
        "plt.title(\"generated data\")\n",
        "plt.scatter(x=df['X'],y=df['Y'])\n",
        "plt.show()"
      ],
      "execution_count": 7,
      "outputs": [
        {
          "output_type": "display_data",
          "data": {
            "image/png": "[encoded data removed]",
            "text/plain": [
              "<Figure size 432x288 with 1 Axes>"
            ]
          },
          "metadata": {
            "needs_background": "light"
          }
        }
      ]
    },
    {
      "cell_type": "markdown",
      "metadata": {
        "id": "NeHLHEaTIP91"
      },
      "source": [
        "NNNNUUUUUUUUMMMMMMMPPPPPPPPPPPYYYYYYYYYYY"
      ]
    },
    {
      "cell_type": "code",
      "metadata": {
        "id": "mWH4V8unITFX"
      },
      "source": [
        "# splitting data\n",
        "\n",
        "TRAIN_SIZE = 0.7\n",
        "VAL_SIZE = 0.15\n",
        "TEST_SIZE = 0.15"
      ],
      "execution_count": 8,
      "outputs": []
    },
    {
      "cell_type": "code",
      "metadata": {
        "id": "vekVRmaxImFv"
      },
      "source": [
        "# shuffling data\n",
        "\n",
        "indices = list(range(NUM_SAMPLES))\n",
        "np.random.shuffle(indices)\n",
        "X = X[indices]\n",
        "Y = Y[indices]"
      ],
      "execution_count": 9,
      "outputs": []
    },
    {
      "cell_type": "code",
      "metadata": {
        "id": "je10NRH75Kvl"
      },
      "source": [
        "# splitting indices\n",
        "\n",
        "train_start = 0\n",
        "train_end = int(TRAIN_SIZE*NUM_SAMPLES)\n",
        "val_start = train_end\n",
        "val_end = int((TRAIN_SIZE+VAL_SIZE)*NUM_SAMPLES)\n",
        "test_start = val_end\n"
      ],
      "execution_count": 10,
      "outputs": []
    },
    {
      "cell_type": "code",
      "metadata": {
        "colab": {
          "base_uri": "https://localhost:8080/"
        },
        "id": "Q_KvrbLe5iiM",
        "outputId": "de14cbec-1461-4929-ff82-21dea625fac6"
      },
      "source": [
        "# splitting data from the above indices\n",
        "\n",
        "X_train = X[train_start:train_end]\n",
        "Y_train = Y[train_start:train_end]\n",
        "X_val = X[val_start:val_end]\n",
        "Y_val = Y[val_start:val_end]\n",
        "X_test = X[test_start:]\n",
        "Y_test = Y[test_start:]\n",
        "\n",
        "print(f\"X_train: {X_train.shape} Y_train: {Y_train.shape}\")\n",
        "print(f\"X_val: {X_val.shape} Y_val: {Y_val.shape}\")\n",
        "print(f\"X_test: {X_test.shape} Y_test: {Y_test.shape}\")"
      ],
      "execution_count": 11,
      "outputs": [
        {
          "output_type": "stream",
          "name": "stdout",
          "text": [
            "X_train: (35, 1) Y_train: (35, 1)\n",
            "X_val: (7, 1) Y_val: (7, 1)\n",
            "X_test: (8, 1) Y_test: (8, 1)\n"
          ]
        }
      ]
    },
    {
      "cell_type": "markdown",
      "metadata": {
        "id": "KpNP9iCS6lq3"
      },
      "source": [
        "STANDARIZING THE DATA\n",
        "\n",
        "standarized_value = (input-mean)/standard_deviation"
      ]
    },
    {
      "cell_type": "code",
      "metadata": {
        "id": "RK3ydRNx6ub0"
      },
      "source": [
        "def standardize_data(data,mean,std):\n",
        "    return (data-mean)/std\n",
        "\n"
      ],
      "execution_count": 12,
      "outputs": []
    },
    {
      "cell_type": "code",
      "metadata": {
        "colab": {
          "base_uri": "https://localhost:8080/"
        },
        "id": "9HAQhSji62D3",
        "outputId": "754e9eb5-6d12-41aa-f433-7e19cb646958"
      },
      "source": [
        "# takes mean, std of entire data\n",
        "\n",
        "X_mean = np.mean(X_train)\n",
        "X_std = np.std(X_train)\n",
        "Y_mean = np.mean(Y_train)\n",
        "Y_std = np.std(Y_train)\n",
        "\n",
        "print(X_mean, Y_mean)"
      ],
      "execution_count": 13,
      "outputs": [
        {
          "output_type": "stream",
          "name": "stdout",
          "text": [
            "27.0 113.73554348153554\n"
          ]
        }
      ]
    },
    {
      "cell_type": "code",
      "metadata": {
        "id": "DMT4Vo3Y7Lxr"
      },
      "source": [
        "# standardizing all values\n",
        "\n",
        "X_train = standardize_data(X_train, X_mean, X_std)\n",
        "Y_train = standardize_data(Y_train, Y_mean, Y_std)\n",
        "X_val = standardize_data(X_val, X_mean, X_std)\n",
        "Y_val = standardize_data(Y_val, Y_mean, Y_std)\n",
        "X_test = standardize_data(X_test, X_mean, X_std)\n",
        "Y_test = standardize_data(Y_test, Y_mean, Y_std)\n",
        "\n"
      ],
      "execution_count": 14,
      "outputs": []
    },
    {
      "cell_type": "markdown",
      "metadata": {
        "id": "_3ilKii_VdKi"
      },
      "source": [
        "WEIIIIGGHTSSSSSSSS"
      ]
    },
    {
      "cell_type": "code",
      "metadata": {
        "colab": {
          "base_uri": "https://localhost:8080/"
        },
        "id": "5IBtuBFpVfNf",
        "outputId": "2818bf9c-bbfa-44a6-c73e-6e17a7e328ff"
      },
      "source": [
        "INPUT_DIM = X_train.shape[1] # X is 1 dimensional\n",
        "OUTPUT_DIM = Y_train.shape[1]\n",
        "\n",
        "# initialize random weights\n",
        "\n",
        "W = 0.01 * np.random.randn(INPUT_DIM, OUTPUT_DIM)\n",
        "b = np.zeros((1,1))\n",
        "print(f'W: {W.shape}')\n",
        "print(f'b: {b.shape}')"
      ],
      "execution_count": 15,
      "outputs": [
        {
          "output_type": "stream",
          "name": "stdout",
          "text": [
            "W: (1, 1)\n",
            "b: (1, 1)\n"
          ]
        }
      ]
    },
    {
      "cell_type": "markdown",
      "metadata": {
        "id": "Zs14sbs_WWpv"
      },
      "source": [
        "MODEL"
      ]
    },
    {
      "cell_type": "code",
      "metadata": {
        "colab": {
          "base_uri": "https://localhost:8080/"
        },
        "id": "JMnYqrZHWX5F",
        "outputId": "736fd56c-bb48-46b1-b4b3-e0dc7fd2d521"
      },
      "source": [
        "Y_pred = np.dot(X_train, W) + b\n",
        "print(f'Y_pred: {Y_pred.shape}')"
      ],
      "execution_count": null,
      "outputs": [
        {
          "output_type": "stream",
          "name": "stdout",
          "text": [
            "Y_pred: (35, 1)\n"
          ]
        }
      ]
    },
    {
      "cell_type": "markdown",
      "metadata": {
        "id": "IHDYVlIGWlcv"
      },
      "source": [
        "COST FUNCTION - MSE (mean squared error)\n",
        "\n",
        "J = 1/N * SUM[(actual-predicted)^2]"
      ]
    },
    {
      "cell_type": "code",
      "metadata": {
        "colab": {
          "base_uri": "https://localhost:8080/"
        },
        "id": "AoQINjxqWm-X",
        "outputId": "78b0bffe-49b8-4216-b48b-984416040e7b"
      },
      "source": [
        "# check training loop\n",
        "N = len(Y_train)\n",
        "loss = (1/N)*np.sum((Y_train - Y_pred)**2)\n",
        "print(f'loss: {loss:.2f}')"
      ],
      "execution_count": null,
      "outputs": [
        {
          "output_type": "stream",
          "name": "stdout",
          "text": [
            "loss: 0.99\n"
          ]
        }
      ]
    },
    {
      "cell_type": "markdown",
      "metadata": {
        "id": "n2LqMXkSXP8H"
      },
      "source": [
        "GRADIENT DESCENT BABBYYYYYY\n"
      ]
    },
    {
      "cell_type": "code",
      "metadata": {
        "id": "-hpy9eS-XS1B"
      },
      "source": [
        "# check training loop\n",
        "# backpropagation\n",
        "dW = -(2/N) * np.sum((Y_train - Y_pred) * X_train)\n",
        "db = -(2/N) * np.sum((Y_train - Y_pred) * 1)"
      ],
      "execution_count": null,
      "outputs": []
    },
    {
      "cell_type": "code",
      "metadata": {
        "id": "CSL-EPHiXn98"
      },
      "source": [
        " # should be in the range [1e-8,1e-1]\n",
        "LEARNING_RATE = 1e-1"
      ],
      "execution_count": 17,
      "outputs": []
    },
    {
      "cell_type": "code",
      "metadata": {
        "id": "3AhbbO6bXrPr"
      },
      "source": [
        "# check training loop\n",
        "# updating weights\n",
        "W += -LEARNING_RATE * dW\n",
        "b += -LEARNING_RATE * db"
      ],
      "execution_count": null,
      "outputs": []
    },
    {
      "cell_type": "markdown",
      "metadata": {
        "id": "b01G3ii0YRKl"
      },
      "source": [
        "TRAINING"
      ]
    },
    {
      "cell_type": "code",
      "metadata": {
        "id": "jRgliE-oYPbU"
      },
      "source": [
        "# epochs = no. of times entire data is looped over for training\n",
        "EPOCHS = 100\n",
        "N = len(Y_train)"
      ],
      "execution_count": 16,
      "outputs": []
    },
    {
      "cell_type": "code",
      "metadata": {
        "id": "ksMuf6zEYYCf",
        "colab": {
          "base_uri": "https://localhost:8080/"
        },
        "outputId": "ffcd5c97-25c2-4c5d-9e98-f88bcd2ccf4f"
      },
      "source": [
        "for epoch_num in range(EPOCHS):\n",
        "    \n",
        "    # initial prediction\n",
        "    Y_pred = np.dot(X_train, W) + b\n",
        "\n",
        "    # loss MSE\n",
        "    loss = (1/N) * np.sum((Y_train - Y_pred)**2)\n",
        "\n",
        "    # show progress for every 10 epochs\n",
        "\n",
        "    if epoch_num%10 == 0:\n",
        "        print(f'Epoch: {epoch_num} Loss: {loss:.3f}')\n",
        "\n",
        "    # backpropagation\n",
        "    dW = -(2/N) * np.sum((Y_train - Y_pred)*X_train)\n",
        "    db = -(2/N) * np.sum((Y_train - Y_pred)*1)\n",
        "\n",
        "    # update weights\n",
        "    W += -LEARNING_RATE * dW\n",
        "    b += -LEARNING_RATE * db"
      ],
      "execution_count": 18,
      "outputs": [
        {
          "output_type": "stream",
          "name": "stdout",
          "text": [
            "Epoch: 0 Loss: 0.986\n",
            "Epoch: 10 Loss: 0.033\n",
            "Epoch: 20 Loss: 0.022\n",
            "Epoch: 30 Loss: 0.022\n",
            "Epoch: 40 Loss: 0.022\n",
            "Epoch: 50 Loss: 0.022\n",
            "Epoch: 60 Loss: 0.022\n",
            "Epoch: 70 Loss: 0.022\n",
            "Epoch: 80 Loss: 0.022\n",
            "Epoch: 90 Loss: 0.022\n"
          ]
        }
      ]
    },
    {
      "cell_type": "markdown",
      "metadata": {
        "id": "0hOW1-LkXMLY"
      },
      "source": [
        "EVALUATION\n",
        "\n",
        "use the new W and b to predict"
      ]
    },
    {
      "cell_type": "code",
      "metadata": {
        "id": "1oC5q2swXNjv"
      },
      "source": [
        "# predictions\n",
        "pred_train = W*X_train + b\n",
        "pred_test = W*X_test + b"
      ],
      "execution_count": null,
      "outputs": []
    },
    {
      "cell_type": "code",
      "metadata": {
        "colab": {
          "base_uri": "https://localhost:8080/"
        },
        "id": "rCI8bzPUXpXt",
        "outputId": "717cba27-cc6a-4533-fbd1-93fc08ac5801"
      },
      "source": [
        "# train and test MSE\n",
        "train_mse = np.mean((Y_train - pred_train)**2)\n",
        "test_mse = np.mean((Y_test - pred_test)**2)\n",
        "\n",
        "print(f'train_mse: {train_mse:.2f}')\n",
        "print(f'test_mse: {test_mse:.2f}')"
      ],
      "execution_count": 21,
      "outputs": [
        {
          "output_type": "stream",
          "name": "stdout",
          "text": [
            "train_mse: 0.02\n",
            "test_mse: 0.01\n"
          ]
        }
      ]
    },
    {
      "cell_type": "markdown",
      "metadata": {
        "id": "0gt52k1HYF4-"
      },
      "source": [
        "PLOTTING THE BEST FIT LINE"
      ]
    },
    {
      "cell_type": "code",
      "metadata": {
        "colab": {
          "base_uri": "https://localhost:8080/",
          "height": 407
        },
        "id": "gxBtynXZYHdd",
        "outputId": "a327a965-3036-4e32-c439-26839ae1bbd9"
      },
      "source": [
        "# plotting training data\n",
        "\n",
        "plt.figure(figsize=(12,6))\n",
        "plt.subplot(1,2,1)\n",
        "plt.title('train')\n",
        "plt.scatter(X_train, Y_train, label = 'y_train')\n",
        "plt.plot(\n",
        "    X_train, \n",
        "    pred_train, \n",
        "    color = 'red', \n",
        "    linewidth=1, \n",
        "    linestyle='-', \n",
        "    label='model'\n",
        "    )\n",
        "plt.legend(loc='lower right')"
      ],
      "execution_count": 34,
      "outputs": [
        {
          "output_type": "execute_result",
          "data": {
            "text/plain": [
              "<matplotlib.legend.Legend at 0x7f0f134f3710>"
            ]
          },
          "metadata": {},
          "execution_count": 34
        },
        {
          "output_type": "display_data",
          "data": {
            "image/png": "[encoded data removed]",
            "text/plain": [
              "<Figure size 864x432 with 1 Axes>"
            ]
          },
          "metadata": {
            "needs_background": "light"
          }
        }
      ]
    },
    {
      "cell_type": "code",
      "metadata": {
        "colab": {
          "base_uri": "https://localhost:8080/",
          "height": 407
        },
        "id": "Gs-z7kneY-UN",
        "outputId": "9f7881e3-d0c5-4791-830c-77879ea61d06"
      },
      "source": [
        "# plotting testing data\n",
        "\n",
        "plt.figure(figsize=(12,6))\n",
        "plt.subplot(1,2,1)\n",
        "plt.title('test')\n",
        "plt.scatter(X_test, Y_test, label = 'y_train')\n",
        "plt.plot(\n",
        "    X_test, \n",
        "    pred_test, \n",
        "    color = 'red', \n",
        "    linewidth=1, \n",
        "    linestyle='-', \n",
        "    label='model'\n",
        "    )\n",
        "plt.legend(loc='lower right')"
      ],
      "execution_count": 35,
      "outputs": [
        {
          "output_type": "execute_result",
          "data": {
            "text/plain": [
              "<matplotlib.legend.Legend at 0x7f0f13430710>"
            ]
          },
          "metadata": {},
          "execution_count": 35
        },
        {
          "output_type": "display_data",
          "data": {
            "image/png": "[encoded data removed]",
            "text/plain": [
              "<Figure size 864x432 with 1 Axes>"
            ]
          },
          "metadata": {
            "needs_background": "light"
          }
        }
      ]
    },
    {
      "cell_type": "markdown",
      "metadata": {
        "id": "0sz3JOcsaPnZ"
      },
      "source": [
        "INTERPRETABILITY\n",
        "\n",
        "original equation: \n",
        "y = 4X + b\n",
        "\n",
        "original weight = 4\n",
        "\n",
        "since data was standarized, we've to unstanderized the weight and intercept b to check how the predicted equation compares to original equation\n",
        "\n",
        "formula:\n",
        "\n",
        "W_unscaled = sum{j=1->k: Wj(Y_std / X_std)}\n",
        "\n",
        "b_unscaled = b_scaled*Y_std + Y_mean - sum{j=1->k: W_unscaled * X_mean}"
      ]
    },
    {
      "cell_type": "code",
      "metadata": {
        "colab": {
          "base_uri": "https://localhost:8080/"
        },
        "id": "25XT-4W6a8Ba",
        "outputId": "240e104a-d310-4906-fdf7-46adbc42f597"
      },
      "source": [
        "# Unscaled weights\n",
        "W_unscaled = W * (Y_std/X_std)\n",
        "b_unscaled = b * Y_std + Y_mean - np.sum(W_unscaled*X_mean)\n",
        "\n",
        "\n",
        "print(f'[actual] y = 4X + noise')\n",
        "print(f'[model] y_hat = {W_unscaled[0][0]:.1f} + {b_unscaled[0][0]:.1f}')"
      ],
      "execution_count": 33,
      "outputs": [
        {
          "output_type": "stream",
          "name": "stdout",
          "text": [
            "[actual] y = 4X + noise\n",
            "[model] y_hat = 3.9 + 7.8\n"
          ]
        }
      ]
    }
  ]
}