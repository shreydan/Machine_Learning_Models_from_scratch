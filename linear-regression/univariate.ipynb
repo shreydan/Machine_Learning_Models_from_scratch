{
  "nbformat": 4,
  "nbformat_minor": 0,
  "metadata": {
    "colab": {
      "name": "linear_regression_from_scratch.ipynb",
      "provenance": [],
      "collapsed_sections": []
    },
    "kernelspec": {
      "name": "python3",
      "display_name": "Python 3"
    },
    "language_info": {
      "name": "python"
    }
  },
  "cells": [
    {
      "cell_type": "markdown",
      "source": [
        "# **Univariate Linear Regression**\n",
        "\n",
        "- generated data\n",
        "- Mean Squared Error\n",
        "- gradient descent"
      ],
      "metadata": {
        "id": "9HETE56Umcq5"
      }
    },
    {
      "cell_type": "markdown",
      "source": [
        "### Generating Data"
      ],
      "metadata": {
        "id": "WNMvU_om9Nx0"
      }
    },
    {
      "cell_type": "code",
      "execution_count": null,
      "metadata": {
        "id": "K_bXdnTumYDC"
      },
      "outputs": [],
      "source": [
        "import numpy as np\n",
        "import matplotlib.pyplot as plt\n",
        "import pandas as pd"
      ]
    },
    {
      "cell_type": "code",
      "source": [
        "def generate_data(NUM_SAMPLES=50):\n",
        "    # generate dummy data for linear regression\n",
        "    np.random.seed(1357)\n",
        "    X = np.array(range(NUM_SAMPLES))\n",
        "    random_noise = np.random.uniform(-10,40, size = NUM_SAMPLES)\n",
        "    y = 4*X + random_noise\n",
        "    return X,y\n",
        "\n",
        "X,y = generate_data()\n",
        "data = pd.DataFrame()\n",
        "data['X'] = X\n",
        "data['y'] = y"
      ],
      "metadata": {
        "id": "qb4_TuuNnzbk"
      },
      "execution_count": null,
      "outputs": []
    },
    {
      "cell_type": "code",
      "source": [
        "plt.scatter(x=data['X'], y=data['y'])\n",
        "plt.show()"
      ],
      "metadata": {
        "colab": {
          "base_uri": "https://localhost:8080/",
          "height": 265
        },
        "id": "ivCx-soBoAE6",
        "outputId": "adc2630e-211e-43d6-9700-4043b079b9cb"
      },
      "execution_count": null,
      "outputs": [
        {
          "output_type": "display_data",
          "data": {
            "image/png": "[encoded data removed]",
            "text/plain": [
              "<Figure size 432x288 with 1 Axes>"
            ]
          },
          "metadata": {
            "needs_background": "light"
          }
        }
      ]
    },
    {
      "cell_type": "markdown",
      "source": [
        "### Splitting data into training/testing sets"
      ],
      "metadata": {
        "id": "CYmPucR99QzL"
      }
    },
    {
      "cell_type": "code",
      "source": [
        "def train_test_split(data,ratio=0.8):\n",
        "    m = len(data) # sample size\n",
        "    shuffled_data = data.sample(frac=1).reset_index(drop=True) # shuffling data\n",
        "    train_start = 0\n",
        "    train_end = int(ratio*m)\n",
        "    test_start = train_end\n",
        "\n",
        "    X = shuffled_data['X']\n",
        "    y = shuffled_data['y']\n",
        "\n",
        "    X_train = X[train_start:train_end]\n",
        "    X_test = X[test_start:]\n",
        "    y_train = y[train_start:train_end]\n",
        "    y_test = y[test_start:]\n",
        "\n",
        "    return X_train, y_train, X_test, y_test\n",
        "\n",
        "X_train, y_train, X_test, y_test = train_test_split(data)\n",
        "print(X_train.shape, y_train.shape, X_test.shape, y_test.shape)"
      ],
      "metadata": {
        "colab": {
          "base_uri": "https://localhost:8080/"
        },
        "id": "K9hkNQD_pAoO",
        "outputId": "c2a0868c-1211-421b-8147-59fd421fcb30"
      },
      "execution_count": null,
      "outputs": [
        {
          "output_type": "stream",
          "name": "stdout",
          "text": [
            "(40,) (40,) (10,) (10,)\n"
          ]
        }
      ]
    },
    {
      "cell_type": "markdown",
      "source": [
        "### Univariate Linear Regression"
      ],
      "metadata": {
        "id": "fpgaTHT39Wmx"
      }
    },
    {
      "cell_type": "code",
      "source": [
        "# h(x) = theta0 + theta1*x\n",
        "\n",
        "def hypothesis(X,theta0=0,theta1=0):\n",
        "    return theta0 + theta1*X\n"
      ],
      "metadata": {
        "id": "VbSMTFyB4OPQ"
      },
      "execution_count": null,
      "outputs": []
    },
    {
      "cell_type": "code",
      "source": [
        "def mean_squared_error(y,h):\n",
        "    m = len(y)\n",
        "    return (1/(2*m)) * np.sum((h - y)**2)\n",
        "\n",
        "print(mean_squared_error(y_train, hypothesis(X_train)))"
      ],
      "metadata": {
        "colab": {
          "base_uri": "https://localhost:8080/"
        },
        "id": "YqyN6H_K8YLy",
        "outputId": "d4a5105d-8875-464d-b5a0-6000ae1550d6"
      },
      "execution_count": null,
      "outputs": [
        {
          "output_type": "stream",
          "name": "stdout",
          "text": [
            "8308.787302054441\n"
          ]
        }
      ]
    },
    {
      "cell_type": "code",
      "source": [
        "# Gradient Descent\n",
        "\n",
        "def gradient_descent(X_train, y_train, epochs=1500, learning_rate = 1e-3):\n",
        "    \n",
        "    theta0 = 0\n",
        "    theta1 = 0\n",
        "    \n",
        "    m = len(X_train)\n",
        "    h = hypothesis(X_train, theta0=theta0, theta1=theta1)\n",
        "    cost = mean_squared_error(y_train,h)\n",
        "\n",
        "    for i in range(epochs):\n",
        "\n",
        "        temp0 = theta0 - learning_rate * (1/m) * np.sum(hypothesis(X_train, \n",
        "                                                           theta0=theta0, \n",
        "                                                           theta1=theta1) - y_train)\n",
        "        \n",
        "        temp1 = theta1 - learning_rate * (1/m) * np.sum((hypothesis(X_train, \n",
        "                                                           theta0=theta0, \n",
        "                                                           theta1=theta1) - y_train) * X_train)\n",
        "        \n",
        "        theta0 = temp0\n",
        "        theta1 = temp1\n",
        "\n",
        "\n",
        "    return theta0, theta1\n",
        "\n",
        "\n",
        "theta0, theta1 = gradient_descent(X_train, y_train)"
      ],
      "metadata": {
        "id": "XCzzKUfcAtne"
      },
      "execution_count": null,
      "outputs": []
    },
    {
      "cell_type": "code",
      "source": [
        "y_test_h = hypothesis(X_test, theta0=theta0, theta1=theta1)\n",
        "print(theta0,theta1)\n",
        "print(mean_squared_error(y_test, y_test_h))"
      ],
      "metadata": {
        "id": "AwJedaugE4mE",
        "colab": {
          "base_uri": "https://localhost:8080/"
        },
        "outputId": "565d0edc-e4bf-400a-ac0d-e2fedcfa8d98"
      },
      "execution_count": null,
      "outputs": [
        {
          "output_type": "stream",
          "name": "stdout",
          "text": [
            "4.386437480421406 4.394226609369292\n",
            "182.49186923992946\n"
          ]
        }
      ]
    },
    {
      "cell_type": "code",
      "source": [
        "plt.scatter(X_test, y_test)\n",
        "plt.plot(X_test, y_test_h, color='red')\n",
        "plt.show()"
      ],
      "metadata": {
        "colab": {
          "base_uri": "https://localhost:8080/",
          "height": 265
        },
        "id": "H2wV9A8OcMta",
        "outputId": "286e873f-f4d6-4054-dd31-8a19e022a1db"
      },
      "execution_count": null,
      "outputs": [
        {
          "output_type": "display_data",
          "data": {
            "image/png": "[encoded data removed]",
            "text/plain": [
              "<Figure size 432x288 with 1 Axes>"
            ]
          },
          "metadata": {
            "needs_background": "light"
          }
        }
      ]
    },
    {
      "cell_type": "code",
      "source": [
        "plt.scatter(X_train,y_train)\n",
        "plt.plot(X_train, hypothesis(X_train, theta0=theta0, theta1=theta1), color='red')\n",
        "plt.show()"
      ],
      "metadata": {
        "colab": {
          "base_uri": "https://localhost:8080/",
          "height": 265
        },
        "id": "jLcXqNYdcuJc",
        "outputId": "f55e4138-c20e-46c4-da46-f128414a40cd"
      },
      "execution_count": null,
      "outputs": [
        {
          "output_type": "display_data",
          "data": {
            "image/png": "[encoded data removed]",
            "text/plain": [
              "<Figure size 432x288 with 1 Axes>"
            ]
          },
          "metadata": {
            "needs_background": "light"
          }
        }
      ]
    }
  ]
}