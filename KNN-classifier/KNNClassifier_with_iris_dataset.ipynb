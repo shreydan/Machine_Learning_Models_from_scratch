{
  "nbformat": 4,
  "nbformat_minor": 0,
  "metadata": {
    "colab": {
      "name": "K_Nearest_Neighbors__Classifier.ipynb",
      "provenance": []
    },
    "kernelspec": {
      "name": "python3",
      "display_name": "Python 3"
    },
    "language_info": {
      "name": "python"
    }
  },
  "cells": [
    {
      "cell_type": "markdown",
      "source": [
        "# **K-Nearest Neighbors Classifier**"
      ],
      "metadata": {
        "id": "yfjdTmETAfRF"
      }
    },
    {
      "cell_type": "code",
      "execution_count": 1,
      "metadata": {
        "id": "epQWT69kARXH"
      },
      "outputs": [],
      "source": [
        "import numpy as np"
      ]
    },
    {
      "cell_type": "code",
      "source": [
        "class KNNClassifier:\n",
        "    def __init__(self, n_neighbors=5):\n",
        "        self.k = n_neighbors\n",
        "    \n",
        "    def euclidean_distance(self, x_train, x_test):\n",
        "        m = x_train.shape[0] # no. of distances i.e. training points for each test point\n",
        "        n = x_test.shape[0] # each test point\n",
        "        distances = np.zeros(shape=(n,m))\n",
        "        for i in range(n):\n",
        "            distances[i] = np.sqrt(np.sum((x_train-x_test[i])**2, axis=1))\n",
        "        return distances\n",
        "\n",
        "    def predict(self, x_test):\n",
        "        m = x_test.shape[0] # no. of examples in x_test\n",
        "        distances = self.euclidean_distance(self.x_train, x_test)\n",
        "        sorted_args = np.argsort(distances, axis=1)\n",
        "        \n",
        "        closest_labels = self.y_train[sorted_args[:,:self.k]]\n",
        "        y_preds = np.zeros(shape=m)\n",
        "\n",
        "        for r in range(m):\n",
        "            y_preds[r] = np.bincount(closest_labels[r]).argmax()\n",
        "\n",
        "\n",
        "        return y_preds.astype(int)\n",
        "\n",
        "\n",
        "    def fit(self, x_train, y_train):\n",
        "        self.x_train = x_train\n",
        "        self.y_train = y_train"
      ],
      "metadata": {
        "id": "cu5pRki9zdXn"
      },
      "execution_count": 44,
      "outputs": []
    },
    {
      "cell_type": "code",
      "source": [
        "from sklearn.datasets import load_iris\n",
        "from sklearn.model_selection import train_test_split\n",
        "\n",
        "X,y = load_iris(return_X_y = True)\n",
        "\n",
        "# iris features: sepal length, sepal width, petal length, petal width\n",
        "# iris targets: ['setosa', 'versicolor', 'virginica']\n",
        "\n",
        "X_train, X_test, y_train, y_test = train_test_split(X, y, test_size=0.2, random_state=1357)\n",
        "\n",
        "print(X_train.shape, X_test.shape, y_train.shape, y_test.shape)"
      ],
      "metadata": {
        "id": "nenci2cY-Z7N",
        "colab": {
          "base_uri": "https://localhost:8080/"
        },
        "outputId": "9c9bd59d-8a23-4726-be60-06f22e65a446"
      },
      "execution_count": 45,
      "outputs": [
        {
          "output_type": "stream",
          "name": "stdout",
          "text": [
            "(120, 4) (30, 4) (120,) (30,)\n"
          ]
        }
      ]
    },
    {
      "cell_type": "code",
      "source": [
        "classifier = KNNClassifier(n_neighbors=3)\n",
        "classifier.fit(X_train, y_train)\n",
        "y_pred = classifier.predict(X_test)\n",
        "\n",
        "print(y_test[:5])\n",
        "print(y_pred[:5])"
      ],
      "metadata": {
        "id": "-6n3mUnGAuFi",
        "colab": {
          "base_uri": "https://localhost:8080/"
        },
        "outputId": "cd92d32e-95fe-4bc1-fa35-d86768aaef48"
      },
      "execution_count": 46,
      "outputs": [
        {
          "output_type": "stream",
          "name": "stdout",
          "text": [
            "[2 1 1 2 1]\n",
            "[2 1 1 2 1]\n"
          ]
        }
      ]
    },
    {
      "cell_type": "code",
      "source": [
        "from sklearn.metrics import accuracy_score\n",
        "\n",
        "accuracy = accuracy_score(y_test,y_pred)\n",
        "print(accuracy)"
      ],
      "metadata": {
        "colab": {
          "base_uri": "https://localhost:8080/"
        },
        "id": "RIfbhC9aiYEo",
        "outputId": "0f043cd1-5edb-4e92-c06a-d8b2b5548790"
      },
      "execution_count": 47,
      "outputs": [
        {
          "output_type": "stream",
          "name": "stdout",
          "text": [
            "0.9666666666666667\n"
          ]
        }
      ]
    },
    {
      "cell_type": "markdown",
      "source": [
        "\n",
        "\n",
        "---\n",
        "---\n",
        "---\n",
        "---\n",
        "---"
      ],
      "metadata": {
        "id": "eWJtP9zRjPKs"
      }
    },
    {
      "cell_type": "markdown",
      "source": [
        "# _______ JUST ME FIGURING OUT THE MATH BELOW (ignore) ________"
      ],
      "metadata": {
        "id": "EdXHCQFXjE5M"
      }
    },
    {
      "cell_type": "code",
      "source": [
        "x_train = np.random.rand(10,5)\n",
        "x_train"
      ],
      "metadata": {
        "id": "f3VGs1PcAm9m",
        "colab": {
          "base_uri": "https://localhost:8080/"
        },
        "outputId": "15dd6c56-b65c-4131-ba4c-e112da465853"
      },
      "execution_count": 2,
      "outputs": [
        {
          "output_type": "execute_result",
          "data": {
            "text/plain": [
              "array([[0.38560911, 0.68364451, 0.440114  , 0.8626259 , 0.24653833],\n",
              "       [0.20201123, 0.66923868, 0.89713792, 0.25344533, 0.54141786],\n",
              "       [0.08600462, 0.8554541 , 0.99745671, 0.37908103, 0.80749915],\n",
              "       [0.1232745 , 0.5063244 , 0.09034718, 0.85645062, 0.52132661],\n",
              "       [0.29848635, 0.20618607, 0.7163328 , 0.86701715, 0.00896425],\n",
              "       [0.76821111, 0.65472802, 0.14448836, 0.49620882, 0.74312747],\n",
              "       [0.31417967, 0.41599726, 0.92468166, 0.84445652, 0.63703947],\n",
              "       [0.05978232, 0.78860289, 0.02781237, 0.03359079, 0.83922038],\n",
              "       [0.32971232, 0.07754198, 0.04270511, 0.58386548, 0.77984732],\n",
              "       [0.45798953, 0.9216938 , 0.04477189, 0.76936307, 0.49250395]])"
            ]
          },
          "metadata": {},
          "execution_count": 2
        }
      ]
    },
    {
      "cell_type": "code",
      "source": [
        "x_test = np.random.rand(4,5)\n",
        "x_test"
      ],
      "metadata": {
        "colab": {
          "base_uri": "https://localhost:8080/"
        },
        "id": "tFLpKMCEJNiD",
        "outputId": "0ed54f39-c42b-4a4e-a5f4-d78b955046a3"
      },
      "execution_count": 3,
      "outputs": [
        {
          "output_type": "execute_result",
          "data": {
            "text/plain": [
              "array([[0.42748027, 0.08707554, 0.31141054, 0.85771812, 0.94950518],\n",
              "       [0.36916181, 0.14685398, 0.71051124, 0.35932135, 0.14201732],\n",
              "       [0.1951683 , 0.12271324, 0.68672197, 0.77209324, 0.442134  ],\n",
              "       [0.23038845, 0.90153816, 0.22309428, 0.92180454, 0.33049656]])"
            ]
          },
          "metadata": {},
          "execution_count": 3
        }
      ]
    },
    {
      "cell_type": "code",
      "source": [
        "z = np.zeros(shape=(1,2))\n",
        "z[0]"
      ],
      "metadata": {
        "colab": {
          "base_uri": "https://localhost:8080/"
        },
        "id": "HD4f-8FjSZ2C",
        "outputId": "1b36239f-2530-4c8a-f0a9-1bdef8417db2"
      },
      "execution_count": 4,
      "outputs": [
        {
          "output_type": "execute_result",
          "data": {
            "text/plain": [
              "array([0., 0.])"
            ]
          },
          "metadata": {},
          "execution_count": 4
        }
      ]
    },
    {
      "cell_type": "code",
      "source": [
        "def euclidean_distance(x_train, x_test):\n",
        "    m = x_train.shape[0] # no. of distances i.e. training points for each test point\n",
        "    n = x_test.shape[0] # each test point\n",
        "    distances = np.zeros(shape=(n,m))\n",
        "    for i in range(n):\n",
        "        distances[i] = np.sqrt(np.sum((x_train-x_test[i])**2, axis=1))\n",
        "    return distances\n",
        "\n",
        "d = euclidean_distance(x_train, x_test)\n",
        "print(d, d.shape)\n",
        "\n",
        "y_train = np.array([12,43,53,43,12,53,12,12,43,53])\n",
        "\n",
        "k = 5\n",
        "\n",
        "sorted_args = np.argsort(d, axis=1)\n",
        "print(sorted_args)\n",
        "closest_labels = y_train[sorted_args][:,:3]\n",
        "print(closest_labels)\n",
        "\n",
        "y_preds = np.zeros(shape=x_test.shape[0])\n",
        "\n",
        "# y_preds[0] = np.bincount(closest_labels[0]).argmax()\n",
        "# print(y_preds)\n",
        "\n",
        "for r in range(x_test.shape[0]):\n",
        "    y_preds[r] = np.bincount(closest_labels[r]).argmax()\n",
        "\n",
        "print(y_preds)\n",
        "\n",
        "\n",
        "# y_tr = np.array(['a','b','c','c','c','b','b','c','a','k'])\n",
        "# # print(sorted_args)\n",
        "# sorted_args = np.argsort(d, axis=1)\n",
        "# print(np.sort(d,axis=1))\n",
        "# print(sorted_args)\n",
        "# k_closest_classes = y_tr[sorted_args[:,:3]]\n",
        "# print(k_closest_classes)\n",
        "# # # print(np.bincount(y_tr).argmax(axis=1))\n",
        "# # # print(np.bincount(y_tr).argmax())\n",
        "# # y_preds = np.zeros(shape=x_test.shape[0], dtype=str)\n",
        "# # for r in range(x_test.shape[0]):\n",
        "# #     y_preds[r] = np.bincount(y_tr[r]).argmax()\n",
        "# # np.unique(y_tr, return_counts=True)\n",
        "# # # y_preds.astype(int)\n"
      ],
      "metadata": {
        "id": "7P0favPjHwve",
        "colab": {
          "base_uri": "https://localhost:8080/"
        },
        "outputId": "a1547cd3-7054-479a-a6dd-1b1b29d4979d"
      },
      "execution_count": 18,
      "outputs": [
        {
          "output_type": "stream",
          "name": "stdout",
          "text": [
            "[[0.93187918 1.12450328 1.19454165 0.70747315 1.03898628 0.79966905\n",
            "  0.77132269 1.18284358 0.43084931 0.99260837]\n",
            " [0.79105585 0.71160742 1.05256179 0.98249481 0.5329234  1.05718014\n",
            "  0.77571462 1.25133033 0.95371516 1.15864191]\n",
            " [0.67689062 0.78858398 0.96609122 0.72206424 0.46385958 1.03544403\n",
            "  0.4472456  1.26450138 0.76444766 1.05928722]\n",
            " [0.35947149 1.00014747 1.06990088 0.4753697  0.9153255  0.84127483\n",
            "  0.91375438 1.06194136 1.01857454 0.36536581]] (4, 10)\n",
            "[[8 3 6 5 0 9 4 1 7 2]\n",
            " [4 1 6 0 8 3 2 5 9 7]\n",
            " [6 4 0 3 8 1 2 5 9 7]\n",
            " [0 9 3 5 6 4 1 8 7 2]]\n",
            "[[43 43 12]\n",
            " [12 43 12]\n",
            " [12 12 12]\n",
            " [12 53 43]]\n",
            "[43. 12. 12. 12.]\n"
          ]
        }
      ]
    },
    {
      "cell_type": "code",
      "source": [
        "a = np.array([1,2,3,4,5])\n",
        "b = np.array([21,22,23,24,25])\n",
        "np.sqrt(np.sum((a-b)**2))"
      ],
      "metadata": {
        "colab": {
          "base_uri": "https://localhost:8080/"
        },
        "id": "5KmRgx3ENQn5",
        "outputId": "55f7db45-3f7a-46b7-b1b0-3fc22005911f"
      },
      "execution_count": 5,
      "outputs": [
        {
          "output_type": "execute_result",
          "data": {
            "text/plain": [
              "44.721359549995796"
            ]
          },
          "metadata": {},
          "execution_count": 5
        }
      ]
    }
  ]
}